{
 "cells": [
  {
   "cell_type": "code",
   "execution_count": 1,
   "metadata": {},
   "outputs": [
    {
     "name": "stdout",
     "output_type": "stream",
     "text": [
      "Enter first name: Adam\n",
      "Enter middle name: Ray\n",
      "Enter last name: Alcala\n",
      "Enter age: 33\n",
      "Enter genres with spaces: hiphop\n"
     ]
    }
   ],
   "source": [
    "fname = str(input('Enter first name: '))\n",
    "mname = str(input('Enter middle name: '))\n",
    "lname = str(input('Enter last name: '))\n",
    "age = int(input('Enter age: '))\n",
    "favorite_music_genre = input('Enter genres with spaces: ')"
   ]
  },
  {
   "cell_type": "code",
   "execution_count": 4,
   "metadata": {},
   "outputs": [
    {
     "data": {
      "text/plain": [
       "['Adam', 'Ray', 'Alcala', 33, 'hiphop']"
      ]
     },
     "execution_count": 4,
     "metadata": {},
     "output_type": "execute_result"
    }
   ],
   "source": [
    "user = list([fname, mname, lname, age, favorite_music_genre])\n",
    "user"
   ]
  },
  {
   "cell_type": "code",
   "execution_count": null,
   "metadata": {},
   "outputs": [],
   "source": [
    "welcome_register = str('Thank you, ' + fname + '!' + ' You have successfully registered your information as ' + fname + ' ' \n",
    "                       + mname + ' ' + lname + '. You are ' + str(age) + ' years old.')\n",
    "print(welcome_register)"
   ]
  }
 ],
 "metadata": {
  "kernelspec": {
   "display_name": "Python 3",
   "language": "python",
   "name": "python3"
  },
  "language_info": {
   "codemirror_mode": {
    "name": "ipython",
    "version": 3
   },
   "file_extension": ".py",
   "mimetype": "text/x-python",
   "name": "python",
   "nbconvert_exporter": "python",
   "pygments_lexer": "ipython3",
   "version": "3.8.5"
  }
 },
 "nbformat": 4,
 "nbformat_minor": 4
}
