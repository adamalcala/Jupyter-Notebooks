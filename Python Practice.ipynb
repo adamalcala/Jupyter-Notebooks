{
 "cells": [
  {
   "cell_type": "code",
   "execution_count": 2,
   "metadata": {},
   "outputs": [
    {
     "name": "stdout",
     "output_type": "stream",
     "text": [
      "Hello my name is Adam and I am 33 years old\n"
     ]
    }
   ],
   "source": [
    "# Using format() for print statements\n",
    "age = 33\n",
    "\n",
    "name = 'Adam'\n",
    "\n",
    "print(\"Hello my name is {} and I am {} years old\".format(name, age))"
   ]
  },
  {
   "cell_type": "code",
   "execution_count": 3,
   "metadata": {},
   "outputs": [
    {
     "name": "stdout",
     "output_type": "stream",
     "text": [
      "You are before or after the 21st century\n"
     ]
    }
   ],
   "source": [
    "# Using if else statements\n",
    "year = 1830 # When you check your solution, don't change this number\n",
    "\n",
    "if 2000 <= year <= 2100:\n",
    "    print(\"Welcome to the 21st century!\")\n",
    "else:\n",
    "    print(\"You are before or after the 21st century\")"
   ]
  },
  {
   "cell_type": "code",
   "execution_count": 4,
   "metadata": {},
   "outputs": [
    {
     "name": "stdout",
     "output_type": "stream",
     "text": [
      "hellohellohello\n"
     ]
    }
   ],
   "source": [
    "def tripleprint(string):\n",
    "    print(string + string + string)\n",
    "\n",
    "tripleprint(\"hello\")"
   ]
  },
  {
   "cell_type": "code",
   "execution_count": 17,
   "metadata": {},
   "outputs": [
    {
     "name": "stdout",
     "output_type": "stream",
     "text": [
      "['Fido', 'Sean', 'Sally', 'Mark']\n"
     ]
    }
   ],
   "source": [
    "dognames = [\"Fido\", \"Sean\", \"Sally\", \"Mark\"]\n",
    "\n",
    "print(dognames)"
   ]
  },
  {
   "cell_type": "code",
   "execution_count": 23,
   "metadata": {},
   "outputs": [
    {
     "name": "stdout",
     "output_type": "stream",
     "text": [
      "91\n",
      "94\n",
      "94\n",
      "94\n",
      "98\n",
      "96\n",
      "98\n",
      "92\n"
     ]
    }
   ],
   "source": [
    "numbers = [76, 83, 16, 69, 52, 78, 10, 77, 45, 52, 32, 17, 58, 54, 79, 72, 55, 50, 81, 74, 45, 33, 38, 10, 40, 44, 70, 81, 79, 28, 83, 41, 14, 16, 27, 38, 20, 84, 24, 50, 59, 71, 1, 13, 56, 91, 29, 54, 65, 23, 60, 57, 13, 39, 58, 94, 94, 42, 46, 58, 59, 29, 69, 60, 83, 9, 83, 5, 64, 70, 55, 89, 67, 89, 70, 8, 90, 17, 48, 17, 94, 18, 98, 72, 96, 26, 13, 7, 58, 67, 38, 48, 43, 98, 65, 8, 74, 44, 92]\n",
    "\n",
    "for x in numbers:\n",
    "    if x > 90:\n",
    "        print(x)"
   ]
  },
  {
   "cell_type": "code",
   "execution_count": 26,
   "metadata": {},
   "outputs": [],
   "source": [
    "words = [\"PoGo\",\"Spange\",\"Lie-Fi\"]\n",
    "definitions = [\"Slang for Pokemon Go\",\"To collect spare change, either from couches, passerbys on the street or any numerous other ways and means\",\"When your phone or tablet indicates that you are connected to a wireless network, however you are still unable to load webpages or use any internet services with your device\"] \n",
    "\n",
    "cooldictionary = {words[0] : definitions[0], words[1] : definitions[1], words[2] : definitions[2]}"
   ]
  },
  {
   "cell_type": "code",
   "execution_count": 27,
   "metadata": {},
   "outputs": [
    {
     "data": {
      "text/plain": [
       "{'PoGo': 'Slang for Pokemon Go',\n",
       " 'Spange': 'To collect spare change, either from couches, passerbys on the street or any numerous other ways and means',\n",
       " 'Lie-Fi': 'When your phone or tablet indicates that you are connected to a wireless network, however you are still unable to load webpages or use any internet services with your device'}"
      ]
     },
     "execution_count": 27,
     "metadata": {},
     "output_type": "execute_result"
    }
   ],
   "source": [
    "cooldictionary"
   ]
  },
  {
   "cell_type": "code",
   "execution_count": 2,
   "metadata": {},
   "outputs": [],
   "source": [
    "class Car:\n",
    "    def __init__(self,year, make, model):\n",
    "        self.year = year\n",
    "        self.make = make\n",
    "        self.model = model\n",
    "    def age(self):\n",
    "        return 2020 - self.year"
   ]
  }
 ],
 "metadata": {
  "kernelspec": {
   "display_name": "Python 3.10.7 64-bit",
   "language": "python",
   "name": "python3"
  },
  "language_info": {
   "codemirror_mode": {
    "name": "ipython",
    "version": 3
   },
   "file_extension": ".py",
   "mimetype": "text/x-python",
   "name": "python",
   "nbconvert_exporter": "python",
   "pygments_lexer": "ipython3",
   "version": "3.10.7"
  },
  "vscode": {
   "interpreter": {
    "hash": "ee18fd6fe6dbce28060996570738306344a6961dab0c980bfdd13854bbc397c1"
   }
  }
 },
 "nbformat": 4,
 "nbformat_minor": 4
}
