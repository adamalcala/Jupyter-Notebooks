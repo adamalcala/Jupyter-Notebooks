{
 "cells": [
  {
   "cell_type": "code",
   "execution_count": 5,
   "id": "3535c4e9",
   "metadata": {},
   "outputs": [],
   "source": [
    "#! python3\n",
    "# mcb.pyw - Saves and loads pieces of text to the clipboard\n",
    "# Usage: py.exe mcb.pyw save <keyword>  - Saves clipboard to keyword\n",
    "#        py.exe mcb.pyw <keyword>       - Loads keyword to clipboard\n",
    "#        py.exe mcb.pyw list            - Loads all keywords to clipboard\n",
    "\n",
    "import shelve, pyperclip, sys"
   ]
  },
  {
   "cell_type": "code",
   "execution_count": 6,
   "id": "9205448c",
   "metadata": {},
   "outputs": [],
   "source": [
    "mcbShelf = shelve.open('mcb')"
   ]
  },
  {
   "cell_type": "code",
   "execution_count": 7,
   "id": "bd3adef6",
   "metadata": {},
   "outputs": [],
   "source": [
    "# TODO: Save clipboard content\n",
    "if len(sys.argv) == 3 and sys.argv[1].lower() == 'save':\n",
    "    mcbshelf[sys.argv[2]] = pyperclip.paste()\n",
    "elif len(sys.argv) == 2:\n",
    "    # TODO: List keywords and load content\n",
    "    if sys.argv[1].lower() == 'list':\n",
    "        pyperclip.copy(str(list(mcbShelf.keys())))\n",
    "    elif sys.argv[1] in mcbShelf:\n",
    "        pyperclip.copy(mcbShelf[sys.argv[1]])"
   ]
  },
  {
   "cell_type": "code",
   "execution_count": 8,
   "id": "42bd5327",
   "metadata": {},
   "outputs": [],
   "source": [
    "mcbShelf.close()"
   ]
  },
  {
   "cell_type": "code",
   "execution_count": null,
   "id": "d6c9aa91",
   "metadata": {},
   "outputs": [],
   "source": []
  }
 ],
 "metadata": {
  "kernelspec": {
   "display_name": "Python 3 (ipykernel)",
   "language": "python",
   "name": "python3"
  },
  "language_info": {
   "codemirror_mode": {
    "name": "ipython",
    "version": 3
   },
   "file_extension": ".py",
   "mimetype": "text/x-python",
   "name": "python",
   "nbconvert_exporter": "python",
   "pygments_lexer": "ipython3",
   "version": "3.8.13"
  }
 },
 "nbformat": 4,
 "nbformat_minor": 5
}
