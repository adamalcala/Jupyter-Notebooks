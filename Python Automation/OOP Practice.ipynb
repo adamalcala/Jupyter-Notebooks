{
 "cells": [
  {
   "cell_type": "code",
   "execution_count": 3,
   "metadata": {},
   "outputs": [],
   "source": [
    "class Datacenter(object):\n",
    "    def __init__(self,*kwargs):\n",
    "        self.name=input(\"Add DC name: \");\n",
    "        self.state=input(\"Add DC state: \");\n",
    "        self.city=input(\"Add DC city: \");\n",
    "        \n",
    "    def dcList(self):\n",
    "        dc_list=[]\n",
    "        dc_list.append(self.name.upper())\n",
    "        return(dc_list)"
   ]
  },
  {
   "cell_type": "code",
   "execution_count": 4,
   "metadata": {},
   "outputs": [
    {
     "name": "stdout",
     "output_type": "stream",
     "text": [
      "Add DC name: sjc03\n",
      "Add DC state: CA\n",
      "Add DC city: sc\n"
     ]
    }
   ],
   "source": [
    "newDC=Datacenter()"
   ]
  },
  {
   "cell_type": "code",
   "execution_count": 5,
   "metadata": {},
   "outputs": [
    {
     "data": {
      "text/plain": [
       "['SJC03']"
      ]
     },
     "execution_count": 5,
     "metadata": {},
     "output_type": "execute_result"
    }
   ],
   "source": [
    "newDC.dcList()"
   ]
  },
  {
   "cell_type": "code",
   "execution_count": null,
   "metadata": {},
   "outputs": [],
   "source": []
  }
 ],
 "metadata": {
  "kernelspec": {
   "display_name": "Python 3 (ipykernel)",
   "language": "python",
   "name": "python3"
  },
  "language_info": {
   "codemirror_mode": {
    "name": "ipython",
    "version": 3
   },
   "file_extension": ".py",
   "mimetype": "text/x-python",
   "name": "python",
   "nbconvert_exporter": "python",
   "pygments_lexer": "ipython3",
   "version": "3.8.13"
  }
 },
 "nbformat": 4,
 "nbformat_minor": 4
}
