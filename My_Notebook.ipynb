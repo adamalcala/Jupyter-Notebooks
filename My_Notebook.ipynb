{
 "cells": [
  {
   "cell_type": "markdown",
   "metadata": {},
   "source": [
    "<center>\n",
    "    <img src=\"https://s3-api.us-geo.objectstorage.softlayer.net/cf-courses-data/CognitiveClass/Logos/organization_logo/organization_logo.png\" width=\"300\" alt=\"cognitiveclass.ai logo\"  />\n",
    "</center>\n"
   ]
  },
  {
   "cell_type": "markdown",
   "metadata": {},
   "source": [
    "## Compute Body Mass Index (BMI)"
   ]
  },
  {
   "cell_type": "markdown",
   "metadata": {},
   "source": [
    "##### The following code computes the BMI with the user's input, height and width."
   ]
  },
  {
   "cell_type": "markdown",
   "metadata": {},
   "source": [
    "##### Exercises displayed in this JupyterLab"
   ]
  },
  {
   "cell_type": "markdown",
   "metadata": {},
   "source": [
    "<i>Exercise 1 - Create a new notebook in Python</i><br>\n",
    "<i>Exercise 2 - Write and execute code</i><br>\n",
    "<i>Exercise 3 - Create new cells</i><br>\n",
    "<i>Exercise 4 - Create Markdown cells and add text</i><br>\n",
    "<i>Exercise 5 - Rename your Notebook</i><br>\n",
    "<i>Exercise 6 - Save and Download your Jupyter Notebook from Skills Network Labs to your computer</i><br>\n",
    "<i>Exercise 7 - Upload a Jupyter Notebook to Skills Network Labs</i><br>\n",
    "<i>Exercise 8 - Change your kernel (to Python 3, R) in JupyterLab</i>"
   ]
  },
  {
   "cell_type": "code",
   "execution_count": 4,
   "metadata": {},
   "outputs": [
    {
     "name": "stdout",
     "output_type": "stream",
     "text": [
      "Enter your weight in pounds: 155\n",
      "\n",
      "Enter your height in inches: 69\n"
     ]
    }
   ],
   "source": [
    "# User inputs - Weight (pounds) and Height (inches)\n",
    "weight = float(input('Enter your weight in pounds: '))\n",
    "height = float(input('Enter your height in inches: '))\n"
   ]
  },
  {
   "cell_type": "code",
   "execution_count": 5,
   "metadata": {},
   "outputs": [],
   "source": [
    "# Calculation constants for kilograms per pound and meters per inch\n",
    "KILOGRAMS_PER_POUND = 0.45359237\n",
    "METERS_PER_INCH = 0.0254\n",
    "\n",
    "# Calculation for weight in kilograms\n",
    "# Calculation for height in meters\n",
    "# Calculation for bmi\n",
    "weightInKilograms = weight * KILOGRAMS_PER_POUND\n",
    "heightInMeters = height * METERS_PER_INCH\n",
    "bmi = weightInKilograms / (heightInMeters * heightInMeters)\n"
   ]
  },
  {
   "cell_type": "code",
   "execution_count": 6,
   "metadata": {},
   "outputs": [
    {
     "name": "stdout",
     "output_type": "stream",
     "text": [
      "Result: Normal\n"
     ]
    }
   ],
   "source": [
    "if bmi < 18.5:\n",
    "  print(\"Result: Underweight\")\n",
    "elif bmi < 25:\n",
    "  print(\"Result: Normal\")\n",
    "elif bmi < 30:\n",
    "  print(\"Result: Overweight\")\n",
    "else:\n",
    "  print(\"Result: Obese\")"
   ]
  },
  {
   "cell_type": "markdown",
   "metadata": {},
   "source": [
    "#### Exercise 9 - Advanced Markdown Styling"
   ]
  },
  {
   "cell_type": "markdown",
   "metadata": {},
   "source": [
    "##### <i>Markdown cell with \"a\" tag for hyperlink<i/>"
   ]
  },
  {
   "cell_type": "markdown",
   "metadata": {},
   "source": [
    "<a href=\"https://cognitiveclass.ai/\"> Cognitive Class</a> "
   ]
  },
  {
   "cell_type": "markdown",
   "metadata": {},
   "source": [
    "#### Exercise 10 - Advanced Markdown styling: Create tables"
   ]
  },
  {
   "cell_type": "markdown",
   "metadata": {},
   "source": [
    "##### HTML Tables"
   ]
  },
  {
   "cell_type": "markdown",
   "metadata": {},
   "source": [
    "| header | header | header |\n",
    "| ------ | ------ | ------ |\n",
    "| cell | cell | cell |"
   ]
  },
  {
   "cell_type": "markdown",
   "metadata": {},
   "source": [
    "#### Advanced Features and Examples"
   ]
  },
  {
   "cell_type": "markdown",
   "metadata": {},
   "source": [
    "<a href=\"https://github.com/jupyter/jupyter/wiki\"> Jupyter Github Home</a> "
   ]
  },
  {
   "cell_type": "markdown",
   "metadata": {},
   "source": [
    "<a href=\"https://nbviewer.org/github/Tanu-N-Prabhu/Python/blob/master/Exploratory_data_Analysis.ipynb\">Exploratory Data Analysis</a> "
   ]
  },
  {
   "cell_type": "markdown",
   "metadata": {},
   "source": [
    "<a href=\"https://towardsdatascience.com/data-cleaning-with-python-using-pandas-library-c6f4a68ea8eb\">Data Cleaning using Python</a> "
   ]
  },
  {
   "cell_type": "markdown",
   "metadata": {},
   "source": [
    "<a href=\"https://nbviewer.org/github/temporaer/tutorial_ml_gkbionics/blob/master/2%20-%20KMeans.ipynb\">The k-Means Algorithm</a>"
   ]
  },
  {
   "cell_type": "markdown",
   "metadata": {},
   "source": [
    "<a href=\"https://github.com/adam-p/markdown-here/wiki/Markdown-Cheatsheet\">Jupyter Github Cheatsheet</a>"
   ]
  }
 ],
 "metadata": {
  "kernelspec": {
   "display_name": "Python",
   "language": "python",
   "name": "conda-env-python-py"
  },
  "language_info": {
   "codemirror_mode": {
    "name": "ipython",
    "version": 3
   },
   "file_extension": ".py",
   "mimetype": "text/x-python",
   "name": "python",
   "nbconvert_exporter": "python",
   "pygments_lexer": "ipython3",
   "version": "3.7.12"
  }
 },
 "nbformat": 4,
 "nbformat_minor": 4
}
