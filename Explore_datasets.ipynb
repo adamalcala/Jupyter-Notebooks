{
 "cells": [
  {
   "cell_type": "code",
   "execution_count": 3,
   "metadata": {},
   "outputs": [],
   "source": [
    "import pardata\n",
    "data = pardata.load_dataset('noaa_jfk')"
   ]
  },
  {
   "cell_type": "code",
   "execution_count": 4,
   "metadata": {},
   "outputs": [
    {
     "data": {
      "text/plain": [
       "{'jfk_weather_cleaned':                      DATE  HOURLYVISIBILITY  HOURLYDRYBULBTEMPF  \\\n",
       " 0     2010-01-01 01:00:00               6.0                33.0   \n",
       " 1     2010-01-01 02:00:00               6.0                33.0   \n",
       " 2     2010-01-01 03:00:00               5.0                33.0   \n",
       " 3     2010-01-01 04:00:00               5.0                33.0   \n",
       " 4     2010-01-01 05:00:00               5.0                33.0   \n",
       " ...                   ...               ...                 ...   \n",
       " 75114 2018-07-27 19:00:00              10.0                76.0   \n",
       " 75115 2018-07-27 20:00:00               4.0                69.0   \n",
       " 75116 2018-07-27 21:00:00              10.0                71.0   \n",
       " 75117 2018-07-27 22:00:00              10.0                72.0   \n",
       " 75118 2018-07-27 23:00:00              10.0                72.0   \n",
       " \n",
       "        HOURLYWETBULBTEMPF  HOURLYDewPointTempF  HOURLYRelativeHumidity  \\\n",
       " 0                    32.0                 31.0                    92.0   \n",
       " 1                    33.0                 32.0                    96.0   \n",
       " 2                    33.0                 32.0                    96.0   \n",
       " 3                    33.0                 32.0                    96.0   \n",
       " 4                    32.0                 31.0                    92.0   \n",
       " ...                   ...                  ...                     ...   \n",
       " 75114                73.0                 72.0                    88.0   \n",
       " 75115                69.0                 69.0                   100.0   \n",
       " 75116                70.0                 70.0                    96.0   \n",
       " 75117                71.0                 70.0                    94.0   \n",
       " 75118                71.0                 71.0                    97.0   \n",
       " \n",
       "        HOURLYWindSpeed  HOURLYStationPressure  HOURLYSeaLevelPressure  \\\n",
       " 0                  0.0                  29.97                   29.99   \n",
       " 1                  0.0                  29.97                   29.99   \n",
       " 2                  0.0                  29.97                   29.99   \n",
       " 3                  0.0                  29.95                   29.97   \n",
       " 4                  0.0                  29.93                   29.96   \n",
       " ...                ...                    ...                     ...   \n",
       " 75114              3.0                  30.00                   30.02   \n",
       " 75115             13.0                  29.99                   30.01   \n",
       " 75116              0.0                  30.02                   30.04   \n",
       " 75117              5.0                  30.00                   30.02   \n",
       " 75118              0.0                  30.01                   30.03   \n",
       " \n",
       "        HOURLYPrecip  HOURLYAltimeterSetting  HOURLYWindDirectionSin  \\\n",
       " 0              0.01                   29.99                0.000000   \n",
       " 1              0.02                   29.99                0.000000   \n",
       " 2              0.00                   29.99                0.000000   \n",
       " 3              0.00                   29.97                0.000000   \n",
       " 4              0.00                   29.95                0.000000   \n",
       " ...             ...                     ...                     ...   \n",
       " 75114          0.00                   30.02               -0.766044   \n",
       " 75115          1.16                   30.01                0.642788   \n",
       " 75116          0.01                   30.04                0.000000   \n",
       " 75117          0.00                   30.02                0.766044   \n",
       " 75118          0.00                   30.03                0.000000   \n",
       " \n",
       "        HOURLYWindDirectionCos  HOURLYPressureTendencyIncr  \\\n",
       " 0                    1.000000                           0   \n",
       " 1                    1.000000                           0   \n",
       " 2                    1.000000                           0   \n",
       " 3                    1.000000                           0   \n",
       " 4                    1.000000                           0   \n",
       " ...                       ...                         ...   \n",
       " 75114               -0.642788                           1   \n",
       " 75115                0.766044                           1   \n",
       " 75116                1.000000                           1   \n",
       " 75117                0.642788                           1   \n",
       " 75118                1.000000                           1   \n",
       " \n",
       "        HOURLYPressureTendencyDecr  HOURLYPressureTendencyCons  \n",
       " 0                               1                           0  \n",
       " 1                               1                           0  \n",
       " 2                               1                           0  \n",
       " 3                               1                           0  \n",
       " 4                               1                           0  \n",
       " ...                           ...                         ...  \n",
       " 75114                           0                           0  \n",
       " 75115                           0                           0  \n",
       " 75116                           0                           0  \n",
       " 75117                           0                           0  \n",
       " 75118                           0                           0  \n",
       " \n",
       " [75119 rows x 16 columns]}"
      ]
     },
     "execution_count": 4,
     "metadata": {},
     "output_type": "execute_result"
    }
   ],
   "source": [
    "data"
   ]
  },
  {
   "cell_type": "code",
   "execution_count": null,
   "metadata": {},
   "outputs": [],
   "source": []
  }
 ],
 "metadata": {
  "kernelspec": {
   "display_name": "Python 3",
   "language": "python",
   "name": "python3"
  },
  "language_info": {
   "codemirror_mode": {
    "name": "ipython",
    "version": 3
   },
   "file_extension": ".py",
   "mimetype": "text/x-python",
   "name": "python",
   "nbconvert_exporter": "python",
   "pygments_lexer": "ipython3",
   "version": "3.8.5"
  }
 },
 "nbformat": 4,
 "nbformat_minor": 4
}
